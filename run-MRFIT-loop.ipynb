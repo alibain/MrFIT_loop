{
 "cells": [
  {
   "cell_type": "code",
   "execution_count": 3,
   "metadata": {},
   "outputs": [],
   "source": [
    "# generate input file for MRFIT\n",
    "import os\n",
    "import subprocess"
   ]
  },
  {
   "cell_type": "code",
   "execution_count": 9,
   "metadata": {},
   "outputs": [],
   "source": [
    "peakdatafolder=r'C:\\Users\\zu21202\\OneDrive - University of Bristol\\Documents\\UoB-PostDoc\\HOT-data\\peakdata\\Feb-15-2023'\n",
    "r1='6000' #radii\n",
    "r2='9500'\n",
    "m01='1.333' #no in refractive index\n",
    "m02='1.35'\n",
    "n1='1'# mode orders\n",
    "n2='3'\n",
    "fileList = os.listdir(peakdatafolder)\n",
    "for file in fileList:\n",
    "    filename = file[0:-4]\n",
    "    f = open(r\"C:\\Users\\zu21202\\OneDrive - University of Bristol\\Desktop\\mrfit1.1\\parameters.in\", 'w')\n",
    "    f.write(\"Mie Resonance Fit -- Parameter File (wavenumber v=1/wavelength)\\n\\n\"+filename+\".dat\\tThe name of the input file with the frames and peak locations (no spaces in name)\\n\"+filename+\"\\tThe name of the file where the results are written (no spaces in name)\\n\\n1\\t-1\\t1\\tStarting frame, ending frame (set to -1 for last frame), and interval between frames\\n\\nSearch parameters:\\n\"+r1+\"\\t\"+r2+\"\\t1.00\\tRange of possible radii\\n\"+m01+\"\\t\"+m02+\"\\t0.005\\tRange of possible refractive index (m0)\\n0.00\\t30.00\\t2.00\\tRange of possible dispersion (m1)\\n\\n\"+n1+\"\\t\"+n2+\"\\tRange of possible mode orders\\n\\n1\\tNumber of terms in calculated refractive index (m0 + m1*(v-v0) + ... + mk*(v-v0)^k)\\n-1\\tMidpoint of spectrum 1/v0 (either define a wavelength or set to -1 for automatic calculation for each frame)\\n\\nRefractive index of medium (ms0 + ms1*v + ... + msk0*v^k0, should be constant, monotonic increasing, or decreasing):\\n2\\tk0\\n1.00\\t0.00\\t0.00\\n\\nAdvanced Options\\n1\\t(0: No, 1: Yes) edit advanced.in if set to Yes\")\n",
    "    f.close()   \n",
    "    #subprocess.run(r\"C:\\Users\\zu21202\\OneDrive - University of Bristol\\Desktop\\mrfit1.1\\mrfit.exe\",shell=True)\n",
    "    os.chdir(r\"C:\\Users\\zu21202\\OneDrive - University of Bristol\\Desktop\\mrfit1.1\")\n",
    "    os.system(\"mrfit.exe\")"
   ]
  },
  {
   "cell_type": "code",
   "execution_count": 5,
   "metadata": {},
   "outputs": [],
   "source": [
    "# alternative method to run .exe file\n",
    "#os.chdir(r\"C:\\Users\\zu21202\\OneDrive - University of Bristol\\Desktop\\mrfit1.1\")\n",
    "#os.system(\"mrfit.exe\")"
   ]
  },
  {
   "cell_type": "code",
   "execution_count": 6,
   "metadata": {},
   "outputs": [],
   "source": [
    "# #write parameters.in\n",
    "# f = open(r'C:\\Users\\zu21202\\OneDrive - University of Bristol\\Documents\\Python\\input_test.in', 'w')\n",
    "# f.write(\"Mie Resonance Fit -- Parameter File (wavenumber v=1/wavelength)\\\n",
    "#     \\n\\\n",
    "#     \\n\\\n",
    "# \"\n",
    "# +filename+\n",
    "# \".dat\\tThe name of the input file with the frames and peak locations (no spaces in name)\\\n",
    "# \\n\\\n",
    "# \"\n",
    "# +filename+\n",
    "# \"\\tThe name of the file where the results are written (no spaces in name)\\\n",
    "#     \\n\\\n",
    "#     \\n\\\n",
    "# 1\\t-1\\t1\\tStarting frame, ending frame (set to -1 for last frame), and interval between frames\\\n",
    "#     \\n\\\n",
    "#     \\n\\\n",
    "# Search parameters:\\\n",
    "#     \\n\\\n",
    "# \"\n",
    "# +r1+\n",
    "# \"\\t\"\n",
    "# +r2+\n",
    "# \"\\t1.00\\tRange of possible radii\\\n",
    "#     \\n\\\n",
    "# \"\n",
    "# +m01+\n",
    "# \"\\t\"\n",
    "# +m02+\n",
    "# \"\\t0.005\\tRange of possible refractive index (m0)\\\n",
    "#     \\n\\\n",
    "# 0.00\\t30.00\\t2.00\\tRange of possible dispersion (m1)\\\n",
    "#     \\n\\\n",
    "#     \\n\\\n",
    "# 1\\t3\\tRange of possible mode orders\\\n",
    "#         \\n\\\n",
    "#         \\n\\\n",
    "# 1\\tNumber of terms in calculated refractive index (m0 + m1*(v-v0) + ... + mk*(v-v0)^k)\\\n",
    "# \\n\\\n",
    "# -1\\tMidpoint of spectrum 1/v0 (either define a wavelength or set to -1 for automatic calculation for each frame)\\\n",
    "#             \\n\\\n",
    "#             \\n\\\n",
    "# Refractive index of medium (ms0 + ms1*v + ... + msk0*v^k0, should be constant, monotonic increasing, or decreasing):\\\n",
    "# \\n\\\n",
    "# 2\\tk0\\\n",
    "# \\n\\\n",
    "# 1.00\\t0.00\\t0.00\\\n",
    "# \\n\\\n",
    "# \\n\\\n",
    "# Advanced Options\\\n",
    "# \\n\\\n",
    "# 1\\t(0: No, 1: Yes) edit advanced.in if set to Yes\")\n",
    "# f.close()   \n"
   ]
  },
  {
   "cell_type": "code",
   "execution_count": 7,
   "metadata": {},
   "outputs": [],
   "source": [
    "#f.write(\"Mie Resonance Fit -- Parameter File (wavenumber v=1/wavelength)\\n\\n\"+filename+\".dat\\tThe name of the input file with the frames and peak locations (no spaces in name)\\n\"+filename+\"\\tThe name of the file where the results are written (no spaces in name)\\n\\n1\\t-1\\t1\\tStarting frame, ending frame (set to -1 for last frame), and interval between frames\\n\\nSearch parameters:\\n\"+r1+\"\\t\"+r2+\"\\t1.00\\tRange of possible radii\\n\"+m01+\"\\t\"+m02+\"\\t0.005\\tRange of possible refractive index (m0)\\n0.00\\t30.00\\t2.00\\tRange of possible dispersion (m1)\\n\\n1\\t3\\tRange of possible mode orders\\n\\n1\\tNumber of terms in calculated refractive index (m0 + m1*(v-v0) + ... + mk*(v-v0)^k)\\n-1\\tMidpoint of spectrum 1/v0 (either define a wavelength or set to -1 for automatic calculation for each frame)\\n\\nRefractive index of medium (ms0 + ms1*v + ... + msk0*v^k0, should be constant, monotonic increasing, or decreasing):\\n2\\tk0\\n1.00\\t0.00\\t0.00\\n\\nAdvanced Options\\n1\\t(0: No, 1: Yes) edit advanced.in if set to Yes\")"
   ]
  }
 ],
 "metadata": {
  "interpreter": {
   "hash": "d83c4d645cffd233e6c5aec9af7c7e470848b1af8f79dc632e5edce639a40280"
  },
  "kernelspec": {
   "display_name": "Python 3.9.7 ('base')",
   "language": "python",
   "name": "python3"
  },
  "language_info": {
   "codemirror_mode": {
    "name": "ipython",
    "version": 3
   },
   "file_extension": ".py",
   "mimetype": "text/x-python",
   "name": "python",
   "nbconvert_exporter": "python",
   "pygments_lexer": "ipython3",
   "version": "3.9.7"
  },
  "orig_nbformat": 4
 },
 "nbformat": 4,
 "nbformat_minor": 2
}
